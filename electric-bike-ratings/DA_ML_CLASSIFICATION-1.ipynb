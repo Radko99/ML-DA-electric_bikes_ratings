{
 "cells": [
  {
   "cell_type": "markdown",
   "metadata": {},
   "source": [
    "# Introduction"
   ]
  },
  {
   "cell_type": "markdown",
   "metadata": {},
   "source": [
    "LOREM IPSUM"
   ]
  },
  {
   "cell_type": "code",
   "execution_count": 25,
   "metadata": {
    "vscode": {
     "languageId": "r"
    }
   },
   "outputs": [],
   "source": [
    "# loading libraries\n",
    "library(tidyverse)\n",
    "library(caret)\n",
    "library(lubridate)\n",
    "library(randomForest)\n",
    "library(caTools)"
   ]
  },
  {
   "cell_type": "code",
   "execution_count": 26,
   "metadata": {
    "vscode": {
     "languageId": "r"
    }
   },
   "outputs": [
    {
     "name": "stderr",
     "output_type": "stream",
     "text": [
      "\u001b[1mRows: \u001b[22m\u001b[34m1500\u001b[39m \u001b[1mColumns: \u001b[22m\u001b[34m8\u001b[39m\n",
      "\u001b[36m--\u001b[39m \u001b[1mColumn specification\u001b[22m \u001b[36m--------------------------------------------------------\u001b[39m\n",
      "\u001b[1mDelimiter:\u001b[22m \",\"\n",
      "\u001b[31mchr\u001b[39m (6): make_model, review_month, web_browser, reviewer_age, primary_use, v...\n",
      "\u001b[32mdbl\u001b[39m (2): owned, overall_rating\n"
     ]
    },
    {
     "name": "stderr",
     "output_type": "stream",
     "text": [
      "\n",
      "\u001b[36mi\u001b[39m Use `spec()` to retrieve the full column specification for this data.\n",
      "\u001b[36mi\u001b[39m Specify the column types or set `show_col_types = FALSE` to quiet this message.\n"
     ]
    }
   ],
   "source": [
    "# loading data\n",
    "df <- read_csv('electric_bike_ratings_2212.csv')"
   ]
  },
  {
   "cell_type": "markdown",
   "metadata": {},
   "source": [
    "# First view of the data "
   ]
  },
  {
   "cell_type": "code",
   "execution_count": 27,
   "metadata": {
    "vscode": {
     "languageId": "r"
    }
   },
   "outputs": [
    {
     "data": {
      "text/html": [
       "<table class=\"dataframe\">\n",
       "<caption>A tibble: 6 x 8</caption>\n",
       "<thead>\n",
       "\t<tr><th scope=col>owned</th><th scope=col>make_model</th><th scope=col>review_month</th><th scope=col>web_browser</th><th scope=col>reviewer_age</th><th scope=col>primary_use</th><th scope=col>value_for_money</th><th scope=col>overall_rating</th></tr>\n",
       "\t<tr><th scope=col>&lt;dbl&gt;</th><th scope=col>&lt;chr&gt;</th><th scope=col>&lt;chr&gt;</th><th scope=col>&lt;chr&gt;</th><th scope=col>&lt;chr&gt;</th><th scope=col>&lt;chr&gt;</th><th scope=col>&lt;chr&gt;</th><th scope=col>&lt;dbl&gt;</th></tr>\n",
       "</thead>\n",
       "<tbody>\n",
       "\t<tr><td>1</td><td>Nielah-Eyden </td><td>Oct   </td><td>Chrome</td><td>23</td><td>Commuting</td><td>5/10</td><td>18.62</td></tr>\n",
       "\t<tr><td>0</td><td>Nielah-Keetra</td><td>Jun   </td><td>NA    </td><td>24</td><td>Commuting</td><td>4/10</td><td>15.55</td></tr>\n",
       "\t<tr><td>0</td><td>Lunna-Keetra </td><td>23-Oct</td><td>Chrome</td><td>28</td><td>Commuting</td><td>5/10</td><td>12.76</td></tr>\n",
       "\t<tr><td>1</td><td>Hoang-Keetra </td><td>07-Nov</td><td>IE    </td><td>41</td><td>Leisure  </td><td>5/10</td><td>17.07</td></tr>\n",
       "\t<tr><td>1</td><td>Lunna-Keetra </td><td>16-Sep</td><td>Chrome</td><td>33</td><td>Leisure  </td><td>5/10</td><td>12.29</td></tr>\n",
       "\t<tr><td>0</td><td>Lunna-Eyden  </td><td>26-Aug</td><td>IE    </td><td>47</td><td>Commuting</td><td>5/10</td><td>15.28</td></tr>\n",
       "</tbody>\n",
       "</table>\n"
      ],
      "text/latex": [
       "A tibble: 6 x 8\n",
       "\\begin{tabular}{llllllll}\n",
       " owned & make\\_model & review\\_month & web\\_browser & reviewer\\_age & primary\\_use & value\\_for\\_money & overall\\_rating\\\\\n",
       " <dbl> & <chr> & <chr> & <chr> & <chr> & <chr> & <chr> & <dbl>\\\\\n",
       "\\hline\n",
       "\t 1 & Nielah-Eyden  & Oct    & Chrome & 23 & Commuting & 5/10 & 18.62\\\\\n",
       "\t 0 & Nielah-Keetra & Jun    & NA     & 24 & Commuting & 4/10 & 15.55\\\\\n",
       "\t 0 & Lunna-Keetra  & 23-Oct & Chrome & 28 & Commuting & 5/10 & 12.76\\\\\n",
       "\t 1 & Hoang-Keetra  & 07-Nov & IE     & 41 & Leisure   & 5/10 & 17.07\\\\\n",
       "\t 1 & Lunna-Keetra  & 16-Sep & Chrome & 33 & Leisure   & 5/10 & 12.29\\\\\n",
       "\t 0 & Lunna-Eyden   & 26-Aug & IE     & 47 & Commuting & 5/10 & 15.28\\\\\n",
       "\\end{tabular}\n"
      ],
      "text/markdown": [
       "\n",
       "A tibble: 6 x 8\n",
       "\n",
       "| owned &lt;dbl&gt; | make_model &lt;chr&gt; | review_month &lt;chr&gt; | web_browser &lt;chr&gt; | reviewer_age &lt;chr&gt; | primary_use &lt;chr&gt; | value_for_money &lt;chr&gt; | overall_rating &lt;dbl&gt; |\n",
       "|---|---|---|---|---|---|---|---|\n",
       "| 1 | Nielah-Eyden  | Oct    | Chrome | 23 | Commuting | 5/10 | 18.62 |\n",
       "| 0 | Nielah-Keetra | Jun    | NA     | 24 | Commuting | 4/10 | 15.55 |\n",
       "| 0 | Lunna-Keetra  | 23-Oct | Chrome | 28 | Commuting | 5/10 | 12.76 |\n",
       "| 1 | Hoang-Keetra  | 07-Nov | IE     | 41 | Leisure   | 5/10 | 17.07 |\n",
       "| 1 | Lunna-Keetra  | 16-Sep | Chrome | 33 | Leisure   | 5/10 | 12.29 |\n",
       "| 0 | Lunna-Eyden   | 26-Aug | IE     | 47 | Commuting | 5/10 | 15.28 |\n",
       "\n"
      ],
      "text/plain": [
       "  owned make_model    review_month web_browser reviewer_age primary_use\n",
       "1 1     Nielah-Eyden  Oct          Chrome      23           Commuting  \n",
       "2 0     Nielah-Keetra Jun          NA          24           Commuting  \n",
       "3 0     Lunna-Keetra  23-Oct       Chrome      28           Commuting  \n",
       "4 1     Hoang-Keetra  07-Nov       IE          41           Leisure    \n",
       "5 1     Lunna-Keetra  16-Sep       Chrome      33           Leisure    \n",
       "6 0     Lunna-Eyden   26-Aug       IE          47           Commuting  \n",
       "  value_for_money overall_rating\n",
       "1 5/10            18.62         \n",
       "2 4/10            15.55         \n",
       "3 5/10            12.76         \n",
       "4 5/10            17.07         \n",
       "5 5/10            12.29         \n",
       "6 5/10            15.28         "
      ]
     },
     "metadata": {},
     "output_type": "display_data"
    }
   ],
   "source": [
    "# loading data\n",
    "df%>%head()"
   ]
  },
  {
   "cell_type": "code",
   "execution_count": 28,
   "metadata": {
    "vscode": {
     "languageId": "r"
    }
   },
   "outputs": [
    {
     "data": {
      "text/html": [
       "<table class=\"dataframe\">\n",
       "<caption>A tibble: 6 x 8</caption>\n",
       "<thead>\n",
       "\t<tr><th scope=col>owned</th><th scope=col>make_model</th><th scope=col>review_month</th><th scope=col>web_browser</th><th scope=col>reviewer_age</th><th scope=col>primary_use</th><th scope=col>value_for_money</th><th scope=col>overall_rating</th></tr>\n",
       "\t<tr><th scope=col>&lt;dbl&gt;</th><th scope=col>&lt;chr&gt;</th><th scope=col>&lt;chr&gt;</th><th scope=col>&lt;chr&gt;</th><th scope=col>&lt;chr&gt;</th><th scope=col>&lt;chr&gt;</th><th scope=col>&lt;chr&gt;</th><th scope=col>&lt;dbl&gt;</th></tr>\n",
       "</thead>\n",
       "<tbody>\n",
       "\t<tr><td>1</td><td>Nielah-Eyden</td><td>May   </td><td>Safari</td><td>26</td><td>Leisure  </td><td>5/10</td><td>19.07</td></tr>\n",
       "\t<tr><td>1</td><td>Nielah-Eyden</td><td>18-May</td><td>Chrome</td><td>- </td><td>Leisure  </td><td>6/10</td><td>18.76</td></tr>\n",
       "\t<tr><td>1</td><td>Nielah-Eyden</td><td>11-Mar</td><td>NA    </td><td>39</td><td>Commuting</td><td>5/10</td><td>18.56</td></tr>\n",
       "\t<tr><td>1</td><td>Nielah-Eyden</td><td>10-Nov</td><td>Chrome</td><td>21</td><td>Commuting</td><td>8/10</td><td>20.22</td></tr>\n",
       "\t<tr><td>0</td><td>Nielah-Eyden</td><td>Nov   </td><td>Safari</td><td>45</td><td>Commuting</td><td>3/10</td><td>18.51</td></tr>\n",
       "\t<tr><td>1</td><td>Hoang-Eyden </td><td>Jul   </td><td>IE    </td><td>37</td><td>Leisure  </td><td>3/10</td><td>20.47</td></tr>\n",
       "</tbody>\n",
       "</table>\n"
      ],
      "text/latex": [
       "A tibble: 6 x 8\n",
       "\\begin{tabular}{llllllll}\n",
       " owned & make\\_model & review\\_month & web\\_browser & reviewer\\_age & primary\\_use & value\\_for\\_money & overall\\_rating\\\\\n",
       " <dbl> & <chr> & <chr> & <chr> & <chr> & <chr> & <chr> & <dbl>\\\\\n",
       "\\hline\n",
       "\t 1 & Nielah-Eyden & May    & Safari & 26 & Leisure   & 5/10 & 19.07\\\\\n",
       "\t 1 & Nielah-Eyden & 18-May & Chrome & -  & Leisure   & 6/10 & 18.76\\\\\n",
       "\t 1 & Nielah-Eyden & 11-Mar & NA     & 39 & Commuting & 5/10 & 18.56\\\\\n",
       "\t 1 & Nielah-Eyden & 10-Nov & Chrome & 21 & Commuting & 8/10 & 20.22\\\\\n",
       "\t 0 & Nielah-Eyden & Nov    & Safari & 45 & Commuting & 3/10 & 18.51\\\\\n",
       "\t 1 & Hoang-Eyden  & Jul    & IE     & 37 & Leisure   & 3/10 & 20.47\\\\\n",
       "\\end{tabular}\n"
      ],
      "text/markdown": [
       "\n",
       "A tibble: 6 x 8\n",
       "\n",
       "| owned &lt;dbl&gt; | make_model &lt;chr&gt; | review_month &lt;chr&gt; | web_browser &lt;chr&gt; | reviewer_age &lt;chr&gt; | primary_use &lt;chr&gt; | value_for_money &lt;chr&gt; | overall_rating &lt;dbl&gt; |\n",
       "|---|---|---|---|---|---|---|---|\n",
       "| 1 | Nielah-Eyden | May    | Safari | 26 | Leisure   | 5/10 | 19.07 |\n",
       "| 1 | Nielah-Eyden | 18-May | Chrome | -  | Leisure   | 6/10 | 18.76 |\n",
       "| 1 | Nielah-Eyden | 11-Mar | NA     | 39 | Commuting | 5/10 | 18.56 |\n",
       "| 1 | Nielah-Eyden | 10-Nov | Chrome | 21 | Commuting | 8/10 | 20.22 |\n",
       "| 0 | Nielah-Eyden | Nov    | Safari | 45 | Commuting | 3/10 | 18.51 |\n",
       "| 1 | Hoang-Eyden  | Jul    | IE     | 37 | Leisure   | 3/10 | 20.47 |\n",
       "\n"
      ],
      "text/plain": [
       "  owned make_model   review_month web_browser reviewer_age primary_use\n",
       "1 1     Nielah-Eyden May          Safari      26           Leisure    \n",
       "2 1     Nielah-Eyden 18-May       Chrome      -            Leisure    \n",
       "3 1     Nielah-Eyden 11-Mar       NA          39           Commuting  \n",
       "4 1     Nielah-Eyden 10-Nov       Chrome      21           Commuting  \n",
       "5 0     Nielah-Eyden Nov          Safari      45           Commuting  \n",
       "6 1     Hoang-Eyden  Jul          IE          37           Leisure    \n",
       "  value_for_money overall_rating\n",
       "1 5/10            19.07         \n",
       "2 6/10            18.76         \n",
       "3 5/10            18.56         \n",
       "4 8/10            20.22         \n",
       "5 3/10            18.51         \n",
       "6 3/10            20.47         "
      ]
     },
     "metadata": {},
     "output_type": "display_data"
    }
   ],
   "source": [
    "df%>%tail()"
   ]
  },
  {
   "cell_type": "code",
   "execution_count": 29,
   "metadata": {
    "vscode": {
     "languageId": "r"
    }
   },
   "outputs": [
    {
     "data": {
      "text/html": [
       "<style>\n",
       ".list-inline {list-style: none; margin:0; padding: 0}\n",
       ".list-inline>li {display: inline-block}\n",
       ".list-inline>li:not(:last-child)::after {content: \"\\00b7\"; padding: 0 .5ex}\n",
       "</style>\n",
       "<ol class=list-inline><li>1500</li><li>8</li></ol>\n"
      ],
      "text/latex": [
       "\\begin{enumerate*}\n",
       "\\item 1500\n",
       "\\item 8\n",
       "\\end{enumerate*}\n"
      ],
      "text/markdown": [
       "1. 1500\n",
       "2. 8\n",
       "\n",
       "\n"
      ],
      "text/plain": [
       "[1] 1500    8"
      ]
     },
     "metadata": {},
     "output_type": "display_data"
    }
   ],
   "source": [
    "# shape of data\n",
    "dim(df)"
   ]
  },
  {
   "cell_type": "code",
   "execution_count": 30,
   "metadata": {
    "vscode": {
     "languageId": "r"
    }
   },
   "outputs": [
    {
     "name": "stdout",
     "output_type": "stream",
     "text": [
      "spc_tbl_ [1,500 x 8] (S3: spec_tbl_df/tbl_df/tbl/data.frame)\n",
      " $ owned          : num [1:1500] 1 0 0 1 1 0 0 1 1 1 ...\n",
      " $ make_model     : chr [1:1500] \"Nielah-Eyden\" \"Nielah-Keetra\" \"Lunna-Keetra\" \"Hoang-Keetra\" ...\n",
      " $ review_month   : chr [1:1500] \"Oct\" \"Jun\" \"23-Oct\" \"07-Nov\" ...\n",
      " $ web_browser    : chr [1:1500] \"Chrome\" NA \"Chrome\" \"IE\" ...\n",
      " $ reviewer_age   : chr [1:1500] \"23\" \"24\" \"28\" \"41\" ...\n",
      " $ primary_use    : chr [1:1500] \"Commuting\" \"Commuting\" \"Commuting\" \"Leisure\" ...\n",
      " $ value_for_money: chr [1:1500] \"5/10\" \"4/10\" \"5/10\" \"5/10\" ...\n",
      " $ overall_rating : num [1:1500] 18.6 15.6 12.8 17.1 12.3 ...\n",
      " - attr(*, \"spec\")=\n",
      "  .. cols(\n",
      "  ..   owned = \u001b[32mcol_double()\u001b[39m,\n",
      "  ..   make_model = \u001b[31mcol_character()\u001b[39m,\n",
      "  ..   review_month = \u001b[31mcol_character()\u001b[39m,\n",
      "  ..   web_browser = \u001b[31mcol_character()\u001b[39m,\n",
      "  ..   reviewer_age = \u001b[31mcol_character()\u001b[39m,\n",
      "  ..   primary_use = \u001b[31mcol_character()\u001b[39m,\n",
      "  ..   value_for_money = \u001b[31mcol_character()\u001b[39m,\n",
      "  ..   overall_rating = \u001b[32mcol_double()\u001b[39m\n",
      "  .. )\n",
      " - attr(*, \"problems\")=<externalptr> \n"
     ]
    }
   ],
   "source": [
    "str(df)"
   ]
  },
  {
   "cell_type": "code",
   "execution_count": 31,
   "metadata": {
    "vscode": {
     "languageId": "r"
    }
   },
   "outputs": [
    {
     "data": {
      "text/plain": [
       "     owned         make_model        review_month       web_browser       \n",
       " Min.   :0.0000   Length:1500        Length:1500        Length:1500       \n",
       " 1st Qu.:0.0000   Class :character   Class :character   Class :character  \n",
       " Median :1.0000   Mode  :character   Mode  :character   Mode  :character  \n",
       " Mean   :0.5933                                                           \n",
       " 3rd Qu.:1.0000                                                           \n",
       " Max.   :1.0000                                                           \n",
       " reviewer_age       primary_use        value_for_money    overall_rating \n",
       " Length:1500        Length:1500        Length:1500        Min.   :11.69  \n",
       " Class :character   Class :character   Class :character   1st Qu.:15.32  \n",
       " Mode  :character   Mode  :character   Mode  :character   Median :18.24  \n",
       "                                                          Mean   :17.14  \n",
       "                                                          3rd Qu.:18.84  \n",
       "                                                          Max.   :22.76  "
      ]
     },
     "metadata": {},
     "output_type": "display_data"
    }
   ],
   "source": [
    "# descriptive statistics\n",
    "summary(df)"
   ]
  },
  {
   "cell_type": "markdown",
   "metadata": {},
   "source": [
    "## Summary of the first view\n",
    "* **owned** -> not appropriate type for this variable\n",
    "* **make_model** -> not appropriate type for this variable\n",
    "* **review_month** -> not appropriate type for this variable\n",
    "* **web_browser** -> not appropriate type for this variable\n",
    "* **reviewer_age** -> not appropriate type for this variable\n",
    "* **primary_use** -> not appropriate type for this variable\n",
    "* **value_for_money** -> it might be better idea to remove \"10\" and \"/\" and changing to integer\n",
    "* **overall_rating** -> this is appropriate for this variable "
   ]
  },
  {
   "cell_type": "markdown",
   "metadata": {},
   "source": [
    "## Data wrangling"
   ]
  },
  {
   "cell_type": "code",
   "execution_count": 32,
   "metadata": {
    "vscode": {
     "languageId": "r"
    }
   },
   "outputs": [
    {
     "data": {
      "text/html": [
       "<style>\n",
       ".list-inline {list-style: none; margin:0; padding: 0}\n",
       ".list-inline>li {display: inline-block}\n",
       ".list-inline>li:not(:last-child)::after {content: \"\\00b7\"; padding: 0 .5ex}\n",
       "</style>\n",
       "<ol class=list-inline><li>'Apr'</li><li>'Aug'</li><li>'Dec'</li><li>'Feb'</li><li>'Jan'</li><li>'Jul'</li><li>'Jun'</li><li>'Mar'</li><li>'May'</li><li>'Nov'</li><li>'Oct'</li><li>'Sep'</li></ol>\n"
      ],
      "text/latex": [
       "\\begin{enumerate*}\n",
       "\\item 'Apr'\n",
       "\\item 'Aug'\n",
       "\\item 'Dec'\n",
       "\\item 'Feb'\n",
       "\\item 'Jan'\n",
       "\\item 'Jul'\n",
       "\\item 'Jun'\n",
       "\\item 'Mar'\n",
       "\\item 'May'\n",
       "\\item 'Nov'\n",
       "\\item 'Oct'\n",
       "\\item 'Sep'\n",
       "\\end{enumerate*}\n"
      ],
      "text/markdown": [
       "1. 'Apr'\n",
       "2. 'Aug'\n",
       "3. 'Dec'\n",
       "4. 'Feb'\n",
       "5. 'Jan'\n",
       "6. 'Jul'\n",
       "7. 'Jun'\n",
       "8. 'Mar'\n",
       "9. 'May'\n",
       "10. 'Nov'\n",
       "11. 'Oct'\n",
       "12. 'Sep'\n",
       "\n",
       "\n"
      ],
      "text/plain": [
       " [1] \"Apr\" \"Aug\" \"Dec\" \"Feb\" \"Jan\" \"Jul\" \"Jun\" \"Mar\" \"May\" \"Nov\" \"Oct\" \"Sep\""
      ]
     },
     "metadata": {},
     "output_type": "display_data"
    }
   ],
   "source": [
    "# converts columns into appropriate types\n",
    "\n",
    "df$owned <- factor(df$owned)\n",
    "\n",
    "df$make_model <- factor(df$make_model)\n",
    "\n",
    "df$web_browser <- factor(df$web_browser)\n",
    "\n",
    "df$primary_use <- factor(df$primary_use)\n",
    "\n",
    "df$value_for_money <- factor(df$value_for_money)\n",
    "\n",
    "df$overall_rating <- as.numeric(df$overall_rating)\n",
    "\n",
    "\n",
    "# Using regular expression with gsub() to remove number and special sign for \"review_month\"\n",
    "df$review_month <- gsub(\"[0-9-]\", \"\", df$review_month)\n",
    "df$review_month <- factor(ifelse(is.na(df$review_month), \"unknown\", df$review_month))\n",
    "levels(df$review_month)\n",
    "\n",
    "# Using regular expression with str_extract to remove \"10\" and special sign for \"value_for_money\"\n",
    "\n",
    "df$value_for_money <-  as.integer(str_extract(df$value_for_money, \"[0-9]+\"))\n",
    "\n",
    "# repalce \"-\" with NA's in \"reviewer_age\" column\n",
    "df$reviewer_age <- gsub(\"-\", NA, df$reviewer_age) \n",
    "df$reviewer_age <- as.integer(df$reviewer_age)"
   ]
  },
  {
   "cell_type": "code",
   "execution_count": 33,
   "metadata": {
    "vscode": {
     "languageId": "r"
    }
   },
   "outputs": [
    {
     "data": {
      "text/plain": [
       " owned           make_model   review_month  web_browser   reviewer_age \n",
       " 0:610   Hoang-Eyden  :124   Mar    :141   Android: 23   Min.   :16.0  \n",
       " 1:890   Hoang-Keetra :124   Sep    :141   Chrome :698   1st Qu.:23.0  \n",
       "         Lunna-Eyden  :329   May    :138   Firefox:233   Median :33.0  \n",
       "         Lunna-Keetra :178   Jan    :126   IE     :239   Mean   :32.6  \n",
       "         Nielah-Eyden :652   Nov    :126   Opera  : 24   3rd Qu.:41.0  \n",
       "         Nielah-Keetra: 93   Oct    :125   Safari :133   Max.   :50.0  \n",
       "                             (Other):703   NA's   :150   NA's   :105   \n",
       "    primary_use   value_for_money  overall_rating \n",
       " Commuting:1095   Min.   : 1.000   Min.   :11.69  \n",
       " Leisure  : 405   1st Qu.: 4.000   1st Qu.:15.32  \n",
       "                  Median : 5.000   Median :18.24  \n",
       "                  Mean   : 4.977   Mean   :17.14  \n",
       "                  3rd Qu.: 6.000   3rd Qu.:18.84  \n",
       "                  Max.   :10.000   Max.   :22.76  \n",
       "                                                  "
      ]
     },
     "metadata": {},
     "output_type": "display_data"
    }
   ],
   "source": [
    "# is it enough?\n",
    "summary(df)"
   ]
  },
  {
   "cell_type": "code",
   "execution_count": 34,
   "metadata": {
    "vscode": {
     "languageId": "r"
    }
   },
   "outputs": [
    {
     "data": {
      "text/html": [
       "<dl>\n",
       "\t<dt>$owned</dt>\n",
       "\t\t<dd>0</dd>\n",
       "\t<dt>$make_model</dt>\n",
       "\t\t<dd>0</dd>\n",
       "\t<dt>$review_month</dt>\n",
       "\t\t<dd>0</dd>\n",
       "\t<dt>$web_browser</dt>\n",
       "\t\t<dd>150</dd>\n",
       "\t<dt>$reviewer_age</dt>\n",
       "\t\t<dd>105</dd>\n",
       "\t<dt>$primary_use</dt>\n",
       "\t\t<dd>0</dd>\n",
       "\t<dt>$value_for_money</dt>\n",
       "\t\t<dd>0</dd>\n",
       "\t<dt>$overall_rating</dt>\n",
       "\t\t<dd>0</dd>\n",
       "</dl>\n"
      ],
      "text/latex": [
       "\\begin{description}\n",
       "\\item[\\$owned] 0\n",
       "\\item[\\$make\\_model] 0\n",
       "\\item[\\$review\\_month] 0\n",
       "\\item[\\$web\\_browser] 150\n",
       "\\item[\\$reviewer\\_age] 105\n",
       "\\item[\\$primary\\_use] 0\n",
       "\\item[\\$value\\_for\\_money] 0\n",
       "\\item[\\$overall\\_rating] 0\n",
       "\\end{description}\n"
      ],
      "text/markdown": [
       "$owned\n",
       ":   0\n",
       "$make_model\n",
       ":   0\n",
       "$review_month\n",
       ":   0\n",
       "$web_browser\n",
       ":   150\n",
       "$reviewer_age\n",
       ":   105\n",
       "$primary_use\n",
       ":   0\n",
       "$value_for_money\n",
       ":   0\n",
       "$overall_rating\n",
       ":   0\n",
       "\n",
       "\n"
      ],
      "text/plain": [
       "$owned\n",
       "[1] 0\n",
       "\n",
       "$make_model\n",
       "[1] 0\n",
       "\n",
       "$review_month\n",
       "[1] 0\n",
       "\n",
       "$web_browser\n",
       "[1] 150\n",
       "\n",
       "$reviewer_age\n",
       "[1] 105\n",
       "\n",
       "$primary_use\n",
       "[1] 0\n",
       "\n",
       "$value_for_money\n",
       "[1] 0\n",
       "\n",
       "$overall_rating\n",
       "[1] 0\n"
      ]
     },
     "metadata": {},
     "output_type": "display_data"
    }
   ],
   "source": [
    "# handling with missing values\n",
    "map(df, ~sum(is.na(.)))"
   ]
  },
  {
   "cell_type": "markdown",
   "metadata": {},
   "source": [
    "The columns which contains **missing values**:\n",
    "\n",
    "* **web_browser** with 150 NA's\n",
    "\n",
    "* **reviewer_age** with 105 NA's"
   ]
  },
  {
   "cell_type": "code",
   "execution_count": 35,
   "metadata": {
    "vscode": {
     "languageId": "r"
    }
   },
   "outputs": [
    {
     "data": {
      "text/html": [
       "<style>\n",
       ".list-inline {list-style: none; margin:0; padding: 0}\n",
       ".list-inline>li {display: inline-block}\n",
       ".list-inline>li:not(:last-child)::after {content: \"\\00b7\"; padding: 0 .5ex}\n",
       "</style>\n",
       "<ol class=list-inline><li>'Android'</li><li>'Chrome'</li><li>'Firefox'</li><li>'IE'</li><li>'Opera'</li><li>'Safari'</li></ol>\n"
      ],
      "text/latex": [
       "\\begin{enumerate*}\n",
       "\\item 'Android'\n",
       "\\item 'Chrome'\n",
       "\\item 'Firefox'\n",
       "\\item 'IE'\n",
       "\\item 'Opera'\n",
       "\\item 'Safari'\n",
       "\\end{enumerate*}\n"
      ],
      "text/markdown": [
       "1. 'Android'\n",
       "2. 'Chrome'\n",
       "3. 'Firefox'\n",
       "4. 'IE'\n",
       "5. 'Opera'\n",
       "6. 'Safari'\n",
       "\n",
       "\n"
      ],
      "text/plain": [
       "[1] \"Android\" \"Chrome\"  \"Firefox\" \"IE\"      \"Opera\"   \"Safari\" "
      ]
     },
     "metadata": {},
     "output_type": "display_data"
    }
   ],
   "source": [
    "# how does it look the levels of our factor?\n",
    "levels(df$web_browser)\n",
    "\n",
    "# convert once again to replace NA's with \"unknown\"\n",
    "df <- df%>%\n",
    "\tmutate(\n",
    "\t\tweb_browser = factor(ifelse(is.na(web_browser), \n",
    "        \"unknown\", web_browser), \n",
    "        labels = c(\"Android\", \"Chrome\", \"Firefox\", \"IE\", \"Opera\", \"Safari\", \"unknown\"))\n",
    "\t)\n",
    "\n",
    "# convert once again into appropriate type and replace NA's with average age\n",
    "df$reviewer_age = ifelse(is.na(df$reviewer_age), mean(df$reviewer_age, na.rm = TRUE), df$reviewer_age)\n",
    "df$reviewer_age = as.integer(df$reviewer_age)"
   ]
  },
  {
   "cell_type": "code",
   "execution_count": 36,
   "metadata": {
    "vscode": {
     "languageId": "r"
    }
   },
   "outputs": [
    {
     "data": {
      "text/html": [
       "<table class=\"dataframe\">\n",
       "<caption>A tibble: 6 x 8</caption>\n",
       "<thead>\n",
       "\t<tr><th scope=col>owned</th><th scope=col>make_model</th><th scope=col>review_month</th><th scope=col>web_browser</th><th scope=col>reviewer_age</th><th scope=col>primary_use</th><th scope=col>value_for_money</th><th scope=col>overall_rating</th></tr>\n",
       "\t<tr><th scope=col>&lt;fct&gt;</th><th scope=col>&lt;fct&gt;</th><th scope=col>&lt;fct&gt;</th><th scope=col>&lt;fct&gt;</th><th scope=col>&lt;int&gt;</th><th scope=col>&lt;fct&gt;</th><th scope=col>&lt;int&gt;</th><th scope=col>&lt;dbl&gt;</th></tr>\n",
       "</thead>\n",
       "<tbody>\n",
       "\t<tr><td>1</td><td>Nielah-Eyden</td><td>May</td><td>Safari </td><td>26</td><td>Leisure  </td><td>5</td><td>19.07</td></tr>\n",
       "\t<tr><td>1</td><td>Nielah-Eyden</td><td>May</td><td>Chrome </td><td>32</td><td>Leisure  </td><td>6</td><td>18.76</td></tr>\n",
       "\t<tr><td>1</td><td>Nielah-Eyden</td><td>Mar</td><td>unknown</td><td>39</td><td>Commuting</td><td>5</td><td>18.56</td></tr>\n",
       "\t<tr><td>1</td><td>Nielah-Eyden</td><td>Nov</td><td>Chrome </td><td>21</td><td>Commuting</td><td>8</td><td>20.22</td></tr>\n",
       "\t<tr><td>0</td><td>Nielah-Eyden</td><td>Nov</td><td>Safari </td><td>45</td><td>Commuting</td><td>3</td><td>18.51</td></tr>\n",
       "\t<tr><td>1</td><td>Hoang-Eyden </td><td>Jul</td><td>IE     </td><td>37</td><td>Leisure  </td><td>3</td><td>20.47</td></tr>\n",
       "</tbody>\n",
       "</table>\n"
      ],
      "text/latex": [
       "A tibble: 6 x 8\n",
       "\\begin{tabular}{llllllll}\n",
       " owned & make\\_model & review\\_month & web\\_browser & reviewer\\_age & primary\\_use & value\\_for\\_money & overall\\_rating\\\\\n",
       " <fct> & <fct> & <fct> & <fct> & <int> & <fct> & <int> & <dbl>\\\\\n",
       "\\hline\n",
       "\t 1 & Nielah-Eyden & May & Safari  & 26 & Leisure   & 5 & 19.07\\\\\n",
       "\t 1 & Nielah-Eyden & May & Chrome  & 32 & Leisure   & 6 & 18.76\\\\\n",
       "\t 1 & Nielah-Eyden & Mar & unknown & 39 & Commuting & 5 & 18.56\\\\\n",
       "\t 1 & Nielah-Eyden & Nov & Chrome  & 21 & Commuting & 8 & 20.22\\\\\n",
       "\t 0 & Nielah-Eyden & Nov & Safari  & 45 & Commuting & 3 & 18.51\\\\\n",
       "\t 1 & Hoang-Eyden  & Jul & IE      & 37 & Leisure   & 3 & 20.47\\\\\n",
       "\\end{tabular}\n"
      ],
      "text/markdown": [
       "\n",
       "A tibble: 6 x 8\n",
       "\n",
       "| owned &lt;fct&gt; | make_model &lt;fct&gt; | review_month &lt;fct&gt; | web_browser &lt;fct&gt; | reviewer_age &lt;int&gt; | primary_use &lt;fct&gt; | value_for_money &lt;int&gt; | overall_rating &lt;dbl&gt; |\n",
       "|---|---|---|---|---|---|---|---|\n",
       "| 1 | Nielah-Eyden | May | Safari  | 26 | Leisure   | 5 | 19.07 |\n",
       "| 1 | Nielah-Eyden | May | Chrome  | 32 | Leisure   | 6 | 18.76 |\n",
       "| 1 | Nielah-Eyden | Mar | unknown | 39 | Commuting | 5 | 18.56 |\n",
       "| 1 | Nielah-Eyden | Nov | Chrome  | 21 | Commuting | 8 | 20.22 |\n",
       "| 0 | Nielah-Eyden | Nov | Safari  | 45 | Commuting | 3 | 18.51 |\n",
       "| 1 | Hoang-Eyden  | Jul | IE      | 37 | Leisure   | 3 | 20.47 |\n",
       "\n"
      ],
      "text/plain": [
       "  owned make_model   review_month web_browser reviewer_age primary_use\n",
       "1 1     Nielah-Eyden May          Safari      26           Leisure    \n",
       "2 1     Nielah-Eyden May          Chrome      32           Leisure    \n",
       "3 1     Nielah-Eyden Mar          unknown     39           Commuting  \n",
       "4 1     Nielah-Eyden Nov          Chrome      21           Commuting  \n",
       "5 0     Nielah-Eyden Nov          Safari      45           Commuting  \n",
       "6 1     Hoang-Eyden  Jul          IE          37           Leisure    \n",
       "  value_for_money overall_rating\n",
       "1 5               19.07         \n",
       "2 6               18.76         \n",
       "3 5               18.56         \n",
       "4 8               20.22         \n",
       "5 3               18.51         \n",
       "6 3               20.47         "
      ]
     },
     "metadata": {},
     "output_type": "display_data"
    },
    {
     "name": "stdout",
     "output_type": "stream",
     "text": [
      "Rows: 1,500\n",
      "Columns: 8\n",
      "$ owned           \u001b[3m\u001b[90m<fct>\u001b[39m\u001b[23m 1, 0, 0, 1, 1, 0, 0, 1, 1, 1, 1, 0, 1, 0, 1, 1, 0, 1, ~\n",
      "$ make_model      \u001b[3m\u001b[90m<fct>\u001b[39m\u001b[23m Nielah-Eyden, Nielah-Keetra, Lunna-Keetra, Hoang-Keetr~\n",
      "$ review_month    \u001b[3m\u001b[90m<fct>\u001b[39m\u001b[23m Oct, Jun, Oct, Nov, Sep, Aug, Mar, Mar, Mar, Jul, Jul,~\n",
      "$ web_browser     \u001b[3m\u001b[90m<fct>\u001b[39m\u001b[23m Chrome, unknown, Chrome, IE, Chrome, IE, Chrome, Chrom~\n",
      "$ reviewer_age    \u001b[3m\u001b[90m<int>\u001b[39m\u001b[23m 23, 24, 28, 41, 33, 47, 20, 32, 35, 22, 41, 35, 29, 41~\n",
      "$ primary_use     \u001b[3m\u001b[90m<fct>\u001b[39m\u001b[23m Commuting, Commuting, Commuting, Leisure, Leisure, Com~\n",
      "$ value_for_money \u001b[3m\u001b[90m<int>\u001b[39m\u001b[23m 5, 4, 5, 5, 5, 5, 3, 7, 4, 6, 4, 5, 6, 3, 6, 5, 3, 6, ~\n",
      "$ overall_rating  \u001b[3m\u001b[90m<dbl>\u001b[39m\u001b[23m 18.62, 15.55, 12.76, 17.07, 12.29, 15.28, 12.28, 15.92~\n"
     ]
    }
   ],
   "source": [
    "# checking for valid integers\n",
    "df%>%tail()\n",
    "glimpse(df)"
   ]
  },
  {
   "cell_type": "code",
   "execution_count": 37,
   "metadata": {
    "vscode": {
     "languageId": "r"
    }
   },
   "outputs": [
    {
     "data": {
      "text/html": [
       "FALSE"
      ],
      "text/latex": [
       "FALSE"
      ],
      "text/markdown": [
       "FALSE"
      ],
      "text/plain": [
       "[1] FALSE"
      ]
     },
     "metadata": {},
     "output_type": "display_data"
    },
    {
     "name": "stdout",
     "output_type": "stream",
     "text": [
      "[1] \"There is no NA values\"\n",
      "[1] \"There is no NA values\"\n",
      "[1] \"There is no NA values\"\n",
      "[1] \"There is no NA values\"\n",
      "[1] \"There is no NA values\"\n",
      "[1] \"There is no NA values\"\n",
      "[1] \"There is no NA values\"\n",
      "[1] \"There is no NA values\"\n"
     ]
    },
    {
     "data": {
      "text/html": [
       "<dl>\n",
       "\t<dt>$owned</dt>\n",
       "\t\t<dd><style>\n",
       ".list-inline {list-style: none; margin:0; padding: 0}\n",
       ".list-inline>li {display: inline-block}\n",
       ".list-inline>li:not(:last-child)::after {content: \"\\00b7\"; padding: 0 .5ex}\n",
       "</style>\n",
       "<ol class=list-inline><li>'0'</li><li>'1'</li></ol>\n",
       "</dd>\n",
       "\t<dt>$models</dt>\n",
       "\t\t<dd><style>\n",
       ".list-inline {list-style: none; margin:0; padding: 0}\n",
       ".list-inline>li {display: inline-block}\n",
       ".list-inline>li:not(:last-child)::after {content: \"\\00b7\"; padding: 0 .5ex}\n",
       "</style>\n",
       "<ol class=list-inline><li>'Hoang-Eyden'</li><li>'Hoang-Keetra'</li><li>'Lunna-Eyden'</li><li>'Lunna-Keetra'</li><li>'Nielah-Eyden'</li><li>'Nielah-Keetra'</li></ol>\n",
       "</dd>\n",
       "\t<dt>$months</dt>\n",
       "\t\t<dd><style>\n",
       ".list-inline {list-style: none; margin:0; padding: 0}\n",
       ".list-inline>li {display: inline-block}\n",
       ".list-inline>li:not(:last-child)::after {content: \"\\00b7\"; padding: 0 .5ex}\n",
       "</style>\n",
       "<ol class=list-inline><li>'Apr'</li><li>'Aug'</li><li>'Dec'</li><li>'Feb'</li><li>'Jan'</li><li>'Jul'</li><li>'Jun'</li><li>'Mar'</li><li>'May'</li><li>'Nov'</li><li>'Oct'</li><li>'Sep'</li></ol>\n",
       "</dd>\n",
       "\t<dt>$web_browser</dt>\n",
       "\t\t<dd><style>\n",
       ".list-inline {list-style: none; margin:0; padding: 0}\n",
       ".list-inline>li {display: inline-block}\n",
       ".list-inline>li:not(:last-child)::after {content: \"\\00b7\"; padding: 0 .5ex}\n",
       "</style>\n",
       "<ol class=list-inline><li>'Android'</li><li>'Chrome'</li><li>'Firefox'</li><li>'IE'</li><li>'Opera'</li><li>'Safari'</li><li>'unknown'</li></ol>\n",
       "</dd>\n",
       "\t<dt>$use</dt>\n",
       "\t\t<dd><style>\n",
       ".list-inline {list-style: none; margin:0; padding: 0}\n",
       ".list-inline>li {display: inline-block}\n",
       ".list-inline>li:not(:last-child)::after {content: \"\\00b7\"; padding: 0 .5ex}\n",
       "</style>\n",
       "<ol class=list-inline><li>'Commuting'</li><li>'Leisure'</li></ol>\n",
       "</dd>\n",
       "\t<dt>$value_for_money</dt>\n",
       "\t\t<dd>NULL</dd>\n",
       "</dl>\n"
      ],
      "text/latex": [
       "\\begin{description}\n",
       "\\item[\\$owned] \\begin{enumerate*}\n",
       "\\item '0'\n",
       "\\item '1'\n",
       "\\end{enumerate*}\n",
       "\n",
       "\\item[\\$models] \\begin{enumerate*}\n",
       "\\item 'Hoang-Eyden'\n",
       "\\item 'Hoang-Keetra'\n",
       "\\item 'Lunna-Eyden'\n",
       "\\item 'Lunna-Keetra'\n",
       "\\item 'Nielah-Eyden'\n",
       "\\item 'Nielah-Keetra'\n",
       "\\end{enumerate*}\n",
       "\n",
       "\\item[\\$months] \\begin{enumerate*}\n",
       "\\item 'Apr'\n",
       "\\item 'Aug'\n",
       "\\item 'Dec'\n",
       "\\item 'Feb'\n",
       "\\item 'Jan'\n",
       "\\item 'Jul'\n",
       "\\item 'Jun'\n",
       "\\item 'Mar'\n",
       "\\item 'May'\n",
       "\\item 'Nov'\n",
       "\\item 'Oct'\n",
       "\\item 'Sep'\n",
       "\\end{enumerate*}\n",
       "\n",
       "\\item[\\$web\\_browser] \\begin{enumerate*}\n",
       "\\item 'Android'\n",
       "\\item 'Chrome'\n",
       "\\item 'Firefox'\n",
       "\\item 'IE'\n",
       "\\item 'Opera'\n",
       "\\item 'Safari'\n",
       "\\item 'unknown'\n",
       "\\end{enumerate*}\n",
       "\n",
       "\\item[\\$use] \\begin{enumerate*}\n",
       "\\item 'Commuting'\n",
       "\\item 'Leisure'\n",
       "\\end{enumerate*}\n",
       "\n",
       "\\item[\\$value\\_for\\_money] NULL\n",
       "\\end{description}\n"
      ],
      "text/markdown": [
       "$owned\n",
       ":   1. '0'\n",
       "2. '1'\n",
       "\n",
       "\n",
       "\n",
       "$models\n",
       ":   1. 'Hoang-Eyden'\n",
       "2. 'Hoang-Keetra'\n",
       "3. 'Lunna-Eyden'\n",
       "4. 'Lunna-Keetra'\n",
       "5. 'Nielah-Eyden'\n",
       "6. 'Nielah-Keetra'\n",
       "\n",
       "\n",
       "\n",
       "$months\n",
       ":   1. 'Apr'\n",
       "2. 'Aug'\n",
       "3. 'Dec'\n",
       "4. 'Feb'\n",
       "5. 'Jan'\n",
       "6. 'Jul'\n",
       "7. 'Jun'\n",
       "8. 'Mar'\n",
       "9. 'May'\n",
       "10. 'Nov'\n",
       "11. 'Oct'\n",
       "12. 'Sep'\n",
       "\n",
       "\n",
       "\n",
       "$web_browser\n",
       ":   1. 'Android'\n",
       "2. 'Chrome'\n",
       "3. 'Firefox'\n",
       "4. 'IE'\n",
       "5. 'Opera'\n",
       "6. 'Safari'\n",
       "7. 'unknown'\n",
       "\n",
       "\n",
       "\n",
       "$use\n",
       ":   1. 'Commuting'\n",
       "2. 'Leisure'\n",
       "\n",
       "\n",
       "\n",
       "$value_for_money\n",
       ":   NULL\n",
       "\n",
       "\n"
      ],
      "text/plain": [
       "$owned\n",
       "[1] \"0\" \"1\"\n",
       "\n",
       "$models\n",
       "[1] \"Hoang-Eyden\"   \"Hoang-Keetra\"  \"Lunna-Eyden\"   \"Lunna-Keetra\" \n",
       "[5] \"Nielah-Eyden\"  \"Nielah-Keetra\"\n",
       "\n",
       "$months\n",
       " [1] \"Apr\" \"Aug\" \"Dec\" \"Feb\" \"Jan\" \"Jul\" \"Jun\" \"Mar\" \"May\" \"Nov\" \"Oct\" \"Sep\"\n",
       "\n",
       "$web_browser\n",
       "[1] \"Android\" \"Chrome\"  \"Firefox\" \"IE\"      \"Opera\"   \"Safari\"  \"unknown\"\n",
       "\n",
       "$use\n",
       "[1] \"Commuting\" \"Leisure\"  \n",
       "\n",
       "$value_for_money\n",
       "NULL\n"
      ]
     },
     "metadata": {},
     "output_type": "display_data"
    }
   ],
   "source": [
    "any(is.na(df))\n",
    "for (col in colnames(df)) {\n",
    "  if (any(is.na(df[[col]]))) {\n",
    "    print(paste(\"Column\", col, \"contains NA values\"))\n",
    "} else{\n",
    "\t  print('There is no NA values')\n",
    "  }\n",
    "}\n",
    "\n",
    "list(\n",
    "\t\"owned\" = levels(df$owned),\n",
    "\t\"models\" = levels(df$make_model),\n",
    "\t\"months\" = levels(df$review_month),\n",
    "\t\"web_browser\" = levels(df$web_browser),\n",
    "\t\"use\" = levels(df$primary_use),\n",
    "\t\"value_for_money\" = levels(df$value_for_money)\n",
    ")\n"
   ]
  },
  {
   "cell_type": "markdown",
   "metadata": {},
   "source": [
    "## Data visualization"
   ]
  },
  {
   "cell_type": "code",
   "execution_count": 38,
   "metadata": {
    "vscode": {
     "languageId": "r"
    }
   },
   "outputs": [
    {
     "data": {
      "text/html": [
       "<table class=\"dataframe\">\n",
       "<caption>A tibble: 2 x 2</caption>\n",
       "<thead>\n",
       "\t<tr><th scope=col>Ownership</th><th scope=col>Quantity</th></tr>\n",
       "\t<tr><th scope=col>&lt;fct&gt;</th><th scope=col>&lt;int&gt;</th></tr>\n",
       "</thead>\n",
       "<tbody>\n",
       "\t<tr><td>Owners    </td><td>890</td></tr>\n",
       "\t<tr><td>Non-Owners</td><td>610</td></tr>\n",
       "</tbody>\n",
       "</table>\n"
      ],
      "text/latex": [
       "A tibble: 2 x 2\n",
       "\\begin{tabular}{ll}\n",
       " Ownership & Quantity\\\\\n",
       " <fct> & <int>\\\\\n",
       "\\hline\n",
       "\t Owners     & 890\\\\\n",
       "\t Non-Owners & 610\\\\\n",
       "\\end{tabular}\n"
      ],
      "text/markdown": [
       "\n",
       "A tibble: 2 x 2\n",
       "\n",
       "| Ownership &lt;fct&gt; | Quantity &lt;int&gt; |\n",
       "|---|---|\n",
       "| Owners     | 890 |\n",
       "| Non-Owners | 610 |\n",
       "\n"
      ],
      "text/plain": [
       "  Ownership  Quantity\n",
       "1 Owners     890     \n",
       "2 Non-Owners 610     "
      ]
     },
     "metadata": {},
     "output_type": "display_data"
    },
    {
     "data": {
      "image/png": "[encoded data removed]",
      "text/plain": [
       "plot without title"
      ]
     },
     "metadata": {
      "image/png": {
       "height": 420,
       "width": 420
      }
     },
     "output_type": "display_data"
    }
   ],
   "source": [
    "# Adding labels\n",
    "df <- df%>%\n",
    "mutate(owned_labs = factor(owned, labels = c(\"Non-Owners\", \"Owners\")))\n",
    "\n",
    "\n",
    "# The most numbers of observations across categories\n",
    "df%>%\n",
    "select(owned_labs)%>%\n",
    "count(owned_labs)%>%\n",
    "rename('Quantity' ='n', 'Ownership' = 'owned_labs')%>%\n",
    "arrange(desc(Quantity))\n",
    "\n",
    "# There is significantly much more \"Owners\" than \"Non-Owners\"\n",
    "df%>%\n",
    "ggplot(aes(owned_labs))+\n",
    "geom_bar(fill = \"#800020\", width = .55)+\n",
    "labs(title = \"Reviews by Ownership\",\n",
    "\t x = \"Ownership\",\n",
    "\t y = \"Quantity\")+\n",
    "scale_y_continuous(limits = c(0, 1000), breaks = seq(0, 1000, by = 100))+\n",
    "theme_bw()+\n",
    "theme(panel.grid.major.x = element_blank())"
   ]
  },
  {
   "cell_type": "markdown",
   "metadata": {},
   "source": [
    "**There is much more reviewers which are \"Owners\" than \"Non-Owners\".**"
   ]
  },
  {
   "cell_type": "code",
   "execution_count": 39,
   "metadata": {
    "vscode": {
     "languageId": "r"
    }
   },
   "outputs": [
    {
     "name": "stderr",
     "output_type": "stream",
     "text": [
      "\u001b[1m\u001b[22mSelecting by quantity\n"
     ]
    },
    {
     "data": {
      "text/html": [
       "<table class=\"dataframe\">\n",
       "<caption>A tibble: 3 x 3</caption>\n",
       "<thead>\n",
       "\t<tr><th scope=col>make_model</th><th scope=col>owned_labs</th><th scope=col>quantity</th></tr>\n",
       "\t<tr><th scope=col>&lt;fct&gt;</th><th scope=col>&lt;fct&gt;</th><th scope=col>&lt;int&gt;</th></tr>\n",
       "</thead>\n",
       "<tbody>\n",
       "\t<tr><td>Nielah-Eyden</td><td>Owners    </td><td>486</td></tr>\n",
       "\t<tr><td>Lunna-Eyden </td><td>Non-Owners</td><td>196</td></tr>\n",
       "\t<tr><td>Nielah-Eyden</td><td>Non-Owners</td><td>166</td></tr>\n",
       "</tbody>\n",
       "</table>\n"
      ],
      "text/latex": [
       "A tibble: 3 x 3\n",
       "\\begin{tabular}{lll}\n",
       " make\\_model & owned\\_labs & quantity\\\\\n",
       " <fct> & <fct> & <int>\\\\\n",
       "\\hline\n",
       "\t Nielah-Eyden & Owners     & 486\\\\\n",
       "\t Lunna-Eyden  & Non-Owners & 196\\\\\n",
       "\t Nielah-Eyden & Non-Owners & 166\\\\\n",
       "\\end{tabular}\n"
      ],
      "text/markdown": [
       "\n",
       "A tibble: 3 x 3\n",
       "\n",
       "| make_model &lt;fct&gt; | owned_labs &lt;fct&gt; | quantity &lt;int&gt; |\n",
       "|---|---|---|\n",
       "| Nielah-Eyden | Owners     | 486 |\n",
       "| Lunna-Eyden  | Non-Owners | 196 |\n",
       "| Nielah-Eyden | Non-Owners | 166 |\n",
       "\n"
      ],
      "text/plain": [
       "  make_model   owned_labs quantity\n",
       "1 Nielah-Eyden Owners     486     \n",
       "2 Lunna-Eyden  Non-Owners 196     \n",
       "3 Nielah-Eyden Non-Owners 166     "
      ]
     },
     "metadata": {},
     "output_type": "display_data"
    }
   ],
   "source": [
    "# Top 3 reviewers which are \"Owners\" or \"Non-Owners\"\n",
    "df%>%\n",
    "select(make_model, owned_labs)%>%\n",
    "count(make_model, owned_labs)%>%\n",
    "rename('quantity' ='n')%>%\n",
    "top_n(3)%>%\n",
    "arrange(desc(quantity))"
   ]
  },
  {
   "cell_type": "markdown",
   "metadata": {},
   "source": [
    "### Distribution of \"overall_rating\" with Histogram"
   ]
  },
  {
   "cell_type": "code",
   "execution_count": 40,
   "metadata": {
    "vscode": {
     "languageId": "r"
    }
   },
   "outputs": [
    {
     "data": {
      "image/png": "[encoded data removed]",
      "text/plain": [
       "plot without title"
      ]
     },
     "metadata": {
      "image/png": {
       "height": 420,
       "width": 420
      }
     },
     "output_type": "display_data"
    }
   ],
   "source": [
    "df%>%\n",
    "ggplot(aes(overall_rating))+\n",
    "geom_histogram(bins = 80, colour = \"purple\")+\n",
    "labs(title = \"Ditribution of the overall rating\",\n",
    "\tx = \"Overall rating\",\n",
    "\ty = \"Count\")"
   ]
  },
  {
   "cell_type": "markdown",
   "metadata": {},
   "source": [
    "This is the trimodal histogram. Dividing this histogram into 3 major peak, we can conclude that:\n",
    "\n",
    "> First interval of peak is approx. **[12-13]**\n",
    "\n",
    "> Second interval of peak is approx. **[15-16]**\n",
    "\n",
    "> Third interval of peak is  approx. **[19-20]**\n",
    "\n",
    "Furthermore, there is a large amounts of numbers in this interval **[18-20]**"
   ]
  },
  {
   "cell_type": "markdown",
   "metadata": {},
   "source": [
    "### Distribution of \"overall_rating\" with Boxplot"
   ]
  },
  {
   "cell_type": "code",
   "execution_count": 43,
   "metadata": {
    "vscode": {
     "languageId": "r"
    }
   },
   "outputs": [
    {
     "data": {
      "image/png": "[encoded data removed]",
      "text/plain": [
       "plot without title"
      ]
     },
     "metadata": {
      "image/png": {
       "height": 420,
       "width": 420
      }
     },
     "output_type": "display_data"
    }
   ],
   "source": [
    "df%>%\n",
    "ggplot(aes(overall_rating))+\n",
    "geom_boxplot()+\n",
    "stat_boxplot(geom = \"errorbar\")+\n",
    "labs(title = \"Distribution of the Overall Rating\",\n",
    "\tsubtitle = \"Median & Quartiles\",\n",
    "\tx = \"Overall rating\")"
   ]
  },
  {
   "cell_type": "markdown",
   "metadata": {},
   "source": [
    "### **The boxplot describes distribution the age of reviewers:**\n",
    "\n",
    "> **The \"50%\" of data is located in [15 - 19] interval.**\n",
    "\n",
    "> **First quartile shows that 25% less data is approx. 15 and 75% are above that.**\n",
    "\n",
    "> **The median (Second quartile) is 18.5.**\n",
    "\n",
    "> **Third quartile shows that 75% less data is approx. 19 and 25% are above that.**"
   ]
  },
  {
   "cell_type": "markdown",
   "metadata": {},
   "source": [
    "### Difference across Overall Rating between `models.`"
   ]
  },
  {
   "cell_type": "code",
   "execution_count": null,
   "metadata": {
    "vscode": {
     "languageId": "r"
    }
   },
   "outputs": [],
   "source": [
    "df%>%\n",
    "ggplot(aes(overall_rating, make_model, fill = owned_labs))+\n",
    "geom_boxplot()+\n",
    "labs(title = \"Difference across overall rating between models\",\n",
    "\tx = \"Overall rating\",\n",
    "\ty = \"Models\")"
   ]
  },
  {
   "cell_type": "markdown",
   "metadata": {},
   "source": [
    "**There is a Boxplots across each category of model dividing by \"Owners\" and \"Non-Owners\".**\n",
    "\n",
    "> According to the **\"Hoang-Eyden\"** model, the **\"Owners\"** category tends to have higher ratings in the approximate interval of [20 - 21]. Additionally, there is a significant difference observed across categories, indicating that **\"Owners\"** tend to leave much higher overall ratings compared to other categories.\n",
    "\n",
    "> **\"Hoang-Keetra\"** is much more euqally in Ownership for leaving rating, which occurs in approx. **[17 - 18]**.\n",
    "\n",
    "> The distributions of ratings for the **\"Nielah-Keetra\"** and **\"Lunna-Eyden\"** models occur in similar intervals. However, when it comes to the **\"Owners\"** category, there is a difference in ratings, but it is not significant enough to impact the tendency to leave ratings.\n",
    "\n",
    "> The distribution of the **\"Lunna-Keetra\"** model represents a significant difference across categories in terms of leaving much lower Overall Rating."
   ]
  },
  {
   "cell_type": "markdown",
   "metadata": {},
   "source": [
    "The relationship between `Ownership` and `overall_rating`"
   ]
  },
  {
   "cell_type": "code",
   "execution_count": null,
   "metadata": {
    "vscode": {
     "languageId": "r"
    }
   },
   "outputs": [],
   "source": [
    "df%>%\n",
    "ggplot(aes(overall_rating,fill = owned_labs))+\n",
    "geom_bar() +\n",
    "labs(title = \"Relationship beetween Ownership and Overall rating\", x = \"Overall rating\", y = \"Counts\") +\n",
    "facet_wrap(~owned_labs)\n"
   ]
  },
  {
   "cell_type": "markdown",
   "metadata": {},
   "source": [
    "**Bar charts displays the relationship beetween Ownership and Overall Rating.**\n",
    "\n",
    "The relationship between ownership (whether **\"Owners\"** or **\"Non-Owners\"**) and the number of overall ratings is consistent across separate panels for each level of ownership. Therefore, we can conclude that there is a significant association between ownership and the number of overall ratings."
   ]
  },
  {
   "cell_type": "markdown",
   "metadata": {},
   "source": []
  },
  {
   "cell_type": "code",
   "execution_count": 44,
   "metadata": {
    "vscode": {
     "languageId": "r"
    }
   },
   "outputs": [
    {
     "data": {
      "image/png": "[encoded data removed]",
      "text/plain": [
       "plot without title"
      ]
     },
     "metadata": {
      "image/png": {
       "height": 420,
       "width": 420
      }
     },
     "output_type": "display_data"
    }
   ],
   "source": [
    "df%>%\n",
    "ggplot(aes(owned_labs, overall_rating, fill = owned_labs))+\n",
    "geom_boxplot()+\n",
    "labs(title = \"Boxplot 'Owners' vs 'Non-Owners'\",\n",
    "\tx = \"Ownership\",\n",
    "\ty = \"Overall rating\")"
   ]
  },
  {
   "cell_type": "markdown",
   "metadata": {},
   "source": [
    "**\"Owners\" have much more tendency to leave higher Overall Rating than \"Non-Owners\"**"
   ]
  },
  {
   "cell_type": "markdown",
   "metadata": {},
   "source": [
    "## Machine learning models"
   ]
  },
  {
   "cell_type": "markdown",
   "metadata": {},
   "source": [
    "According to our goal, we need to find out whether a review came from an owner or not. \n",
    "\n",
    "The business wants to predict whether a review came from an **\"Owners\"** on **\"Non-Owners\"**, which is a binary outcome (whether **\"Owners\"** or **\"Non-Owners\"**). So, this is a classification problem as well.\n"
   ]
  },
  {
   "cell_type": "code",
   "execution_count": 45,
   "metadata": {
    "vscode": {
     "languageId": "r"
    }
   },
   "outputs": [
    {
     "data": {
      "text/html": [
       "<table class=\"dataframe\">\n",
       "<caption>A tibble: 6 x 8</caption>\n",
       "<thead>\n",
       "\t<tr><th scope=col>owned</th><th scope=col>make_model</th><th scope=col>review_month</th><th scope=col>web_browser</th><th scope=col>reviewer_age</th><th scope=col>primary_use</th><th scope=col>value_for_money</th><th scope=col>overall_rating</th></tr>\n",
       "\t<tr><th scope=col>&lt;fct&gt;</th><th scope=col>&lt;fct&gt;</th><th scope=col>&lt;fct&gt;</th><th scope=col>&lt;fct&gt;</th><th scope=col>&lt;int&gt;</th><th scope=col>&lt;fct&gt;</th><th scope=col>&lt;int&gt;</th><th scope=col>&lt;dbl&gt;</th></tr>\n",
       "</thead>\n",
       "<tbody>\n",
       "\t<tr><td>1</td><td>Nielah-Eyden </td><td>Oct</td><td>Chrome </td><td>23</td><td>Commuting</td><td>5</td><td>18.62</td></tr>\n",
       "\t<tr><td>0</td><td>Nielah-Keetra</td><td>Jun</td><td>unknown</td><td>24</td><td>Commuting</td><td>4</td><td>15.55</td></tr>\n",
       "\t<tr><td>0</td><td>Lunna-Keetra </td><td>Oct</td><td>Chrome </td><td>28</td><td>Commuting</td><td>5</td><td>12.76</td></tr>\n",
       "\t<tr><td>1</td><td>Hoang-Keetra </td><td>Nov</td><td>IE     </td><td>41</td><td>Leisure  </td><td>5</td><td>17.07</td></tr>\n",
       "\t<tr><td>1</td><td>Lunna-Keetra </td><td>Sep</td><td>Chrome </td><td>33</td><td>Leisure  </td><td>5</td><td>12.29</td></tr>\n",
       "\t<tr><td>0</td><td>Lunna-Eyden  </td><td>Aug</td><td>IE     </td><td>47</td><td>Commuting</td><td>5</td><td>15.28</td></tr>\n",
       "</tbody>\n",
       "</table>\n"
      ],
      "text/latex": [
       "A tibble: 6 x 8\n",
       "\\begin{tabular}{llllllll}\n",
       " owned & make\\_model & review\\_month & web\\_browser & reviewer\\_age & primary\\_use & value\\_for\\_money & overall\\_rating\\\\\n",
       " <fct> & <fct> & <fct> & <fct> & <int> & <fct> & <int> & <dbl>\\\\\n",
       "\\hline\n",
       "\t 1 & Nielah-Eyden  & Oct & Chrome  & 23 & Commuting & 5 & 18.62\\\\\n",
       "\t 0 & Nielah-Keetra & Jun & unknown & 24 & Commuting & 4 & 15.55\\\\\n",
       "\t 0 & Lunna-Keetra  & Oct & Chrome  & 28 & Commuting & 5 & 12.76\\\\\n",
       "\t 1 & Hoang-Keetra  & Nov & IE      & 41 & Leisure   & 5 & 17.07\\\\\n",
       "\t 1 & Lunna-Keetra  & Sep & Chrome  & 33 & Leisure   & 5 & 12.29\\\\\n",
       "\t 0 & Lunna-Eyden   & Aug & IE      & 47 & Commuting & 5 & 15.28\\\\\n",
       "\\end{tabular}\n"
      ],
      "text/markdown": [
       "\n",
       "A tibble: 6 x 8\n",
       "\n",
       "| owned &lt;fct&gt; | make_model &lt;fct&gt; | review_month &lt;fct&gt; | web_browser &lt;fct&gt; | reviewer_age &lt;int&gt; | primary_use &lt;fct&gt; | value_for_money &lt;int&gt; | overall_rating &lt;dbl&gt; |\n",
       "|---|---|---|---|---|---|---|---|\n",
       "| 1 | Nielah-Eyden  | Oct | Chrome  | 23 | Commuting | 5 | 18.62 |\n",
       "| 0 | Nielah-Keetra | Jun | unknown | 24 | Commuting | 4 | 15.55 |\n",
       "| 0 | Lunna-Keetra  | Oct | Chrome  | 28 | Commuting | 5 | 12.76 |\n",
       "| 1 | Hoang-Keetra  | Nov | IE      | 41 | Leisure   | 5 | 17.07 |\n",
       "| 1 | Lunna-Keetra  | Sep | Chrome  | 33 | Leisure   | 5 | 12.29 |\n",
       "| 0 | Lunna-Eyden   | Aug | IE      | 47 | Commuting | 5 | 15.28 |\n",
       "\n"
      ],
      "text/plain": [
       "  owned make_model    review_month web_browser reviewer_age primary_use\n",
       "1 1     Nielah-Eyden  Oct          Chrome      23           Commuting  \n",
       "2 0     Nielah-Keetra Jun          unknown     24           Commuting  \n",
       "3 0     Lunna-Keetra  Oct          Chrome      28           Commuting  \n",
       "4 1     Hoang-Keetra  Nov          IE          41           Leisure    \n",
       "5 1     Lunna-Keetra  Sep          Chrome      33           Leisure    \n",
       "6 0     Lunna-Eyden   Aug          IE          47           Commuting  \n",
       "  value_for_money overall_rating\n",
       "1 5               18.62         \n",
       "2 4               15.55         \n",
       "3 5               12.76         \n",
       "4 5               17.07         \n",
       "5 5               12.29         \n",
       "6 5               15.28         "
      ]
     },
     "metadata": {},
     "output_type": "display_data"
    }
   ],
   "source": [
    "df <- df%>%\n",
    "select(-owned_labs)\n",
    "df%>%head()"
   ]
  },
  {
   "cell_type": "code",
   "execution_count": 46,
   "metadata": {
    "vscode": {
     "languageId": "r"
    }
   },
   "outputs": [
    {
     "data": {
      "text/plain": [
       "\n",
       "Call:\n",
       "glm(formula = owned ~ overall_rating + make_model + reviewer_age, \n",
       "    family = \"binomial\", data = train)\n",
       "\n",
       "Coefficients:\n",
       "                          Estimate Std. Error z value Pr(>|z|)    \n",
       "(Intercept)             -21.474767   4.003643  -5.364 8.15e-08 ***\n",
       "overall_rating            1.173894   0.194535   6.034 1.60e-09 ***\n",
       "make_modelHoang-Keetra    1.189838   0.766929   1.551  0.12080    \n",
       "make_modelLunna-Eyden     2.996577   1.102321   2.718  0.00656 ** \n",
       "make_modelLunna-Keetra    5.070651   1.638993   3.094  0.00198 ** \n",
       "make_modelNielah-Eyden    0.344784   0.581998   0.592  0.55357    \n",
       "make_modelNielah-Keetra   3.012391   1.051540   2.865  0.00417 ** \n",
       "reviewer_age              0.006434   0.007332   0.878  0.38019    \n",
       "---\n",
       "Signif. codes:  0 '***' 0.001 '**' 0.01 '*' 0.05 '.' 0.1 ' ' 1\n",
       "\n",
       "(Dispersion parameter for binomial family taken to be 1)\n",
       "\n",
       "    Null deviance: 1418.8  on 1049  degrees of freedom\n",
       "Residual deviance: 1144.5  on 1042  degrees of freedom\n",
       "AIC: 1160.5\n",
       "\n",
       "Number of Fisher Scoring iterations: 5\n"
      ]
     },
     "metadata": {},
     "output_type": "display_data"
    }
   ],
   "source": [
    "# Split the data into training and testing sets\n",
    "set.seed(123)\n",
    "sample <- sample.split(df$owned, SplitRatio = 0.7)\n",
    "train <- subset(df, sample == TRUE)\n",
    "test <- subset(df, sample == FALSE)\n",
    "\n",
    "# Fit a logistic regression model\n",
    "model_glm <- glm(owned ~ overall_rating + make_model + reviewer_age, data = train, family = \"binomial\")\n",
    "\n",
    "summary(model_glm)"
   ]
  },
  {
   "cell_type": "code",
   "execution_count": 47,
   "metadata": {
    "vscode": {
     "languageId": "r"
    }
   },
   "outputs": [
    {
     "data": {
      "text/plain": [
       "   pred_glm\n",
       "      0   1\n",
       "  0  92  91\n",
       "  1  28 239"
      ]
     },
     "metadata": {},
     "output_type": "display_data"
    },
    {
     "name": "stdout",
     "output_type": "stream",
     "text": [
      "[1] \"Accuracy = 0.735555555555556\"\n"
     ]
    }
   ],
   "source": [
    "# Make predictions on the testing set\n",
    "pred_glm <- predict(model_glm, newdata = test, type = \"response\")\n",
    "\n",
    "# Convert probabilities to binary predictions\n",
    "pred_glm <- ifelse(pred_glm >= 0.5, 1, 0)\n",
    "\n",
    "# Evaluating model accuracy\n",
    "# using confusion matrix\n",
    "table(test$owned, pred_glm)\n",
    "\n",
    "accuracy <- mean(pred_glm == test$owned)\n",
    "print(paste('Accuracy =', accuracy))"
   ]
  },
  {
   "cell_type": "code",
   "execution_count": 48,
   "metadata": {
    "vscode": {
     "languageId": "r"
    }
   },
   "outputs": [
    {
     "data": {
      "text/plain": [
       "                Length Class  Mode     \n",
       "call               5   -none- call     \n",
       "type               1   -none- character\n",
       "predicted       1050   factor numeric  \n",
       "err.rate        1500   -none- numeric  \n",
       "confusion          6   -none- numeric  \n",
       "votes           2100   matrix numeric  \n",
       "oob.times       1050   -none- numeric  \n",
       "classes            2   -none- character\n",
       "importance        12   -none- numeric  \n",
       "importanceSD       9   -none- numeric  \n",
       "localImportance    0   -none- NULL     \n",
       "proximity          0   -none- NULL     \n",
       "ntree              1   -none- numeric  \n",
       "mtry               1   -none- numeric  \n",
       "forest            14   -none- list     \n",
       "y               1050   factor numeric  \n",
       "test               0   -none- NULL     \n",
       "inbag              0   -none- NULL     \n",
       "terms              3   terms  call     "
      ]
     },
     "metadata": {},
     "output_type": "display_data"
    }
   ],
   "source": [
    "# # Split the data into training and testing sets\n",
    "set.seed(123)\n",
    "sample_rf <- sample.split(df$owned, SplitRatio = 0.7)\n",
    "train_rf <- subset(df, sample_rf== TRUE)\n",
    "test_rf <- subset(df, sample_rf == FALSE)\n",
    "\n",
    "# Create the Random Forest model\n",
    "model_rf <- randomForest(owned ~ overall_rating + make_model + reviewer_age, data = train_rf, ntree = 500, importance = TRUE)\n",
    "\n",
    "summary(model_rf)\n",
    "\n"
   ]
  }
 ],
 "metadata": {
  "kernelspec": {
   "display_name": "R",
   "language": "R",
   "name": "ir"
  },
  "language_info": {
   "codemirror_mode": "r",
   "file_extension": ".r",
   "mimetype": "text/x-r-source",
   "name": "R",
   "pygments_lexer": "r",
   "version": "4.3.0"
  },
  "orig_nbformat": 4
 },
 "nbformat": 4,
 "nbformat_minor": 2
}
